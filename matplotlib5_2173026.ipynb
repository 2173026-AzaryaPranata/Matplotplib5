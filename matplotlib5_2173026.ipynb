{
 "cells": [
  {
   "cell_type": "code",
   "execution_count": null,
   "id": "f5975687",
   "metadata": {},
   "outputs": [],
   "source": [
    "%maplotlib inline"
   ]
  },
  {
   "cell_type": "code",
   "execution_count": null,
   "id": "05655602",
   "metadata": {},
   "outputs": [],
   "source": [
    "import maplotlib\n",
    "import matplotlib.pylot as plt\n",
    "\n",
    "print(maplotlib.__version__)"
   ]
  },
  {
   "cell_type": "code",
   "execution_count": null,
   "id": "0d73cc1e",
   "metadata": {},
   "outputs": [],
   "source": [
    "x=[2, 4, 6, 8, 10, 11, 11.5, 11.7]\n",
    "y=[1, 1.5, 2, 2.5, 3, 3.5, 4, 4.5]"
   ]
  },
  {
   "cell_type": "code",
   "execution_count": null,
   "id": "96529469",
   "metadata": {},
   "outputs": [],
   "source": [
    "plt.scatter(x, y, label= 'Data 1', color='r')\n",
    "\n",
    "plt.xlabel('Sumbu X')\n",
    "plt.ylabel('Sumbu Y')\n",
    "plt.tittle('Contoh Scatter Plot')\n",
    "\n",
    "plt.legend()\n",
    "plt.show()"
   ]
  },
  {
   "cell_type": "code",
   "execution_count": null,
   "id": "15d0925b",
   "metadata": {},
   "outputs": [],
   "source": [
    "x1=[2, 4, 6, 8, 10, 11, 11.5, 11.7]\n",
    "y1=[1, 1.5, 2, 2.5, 3, 3.5, 4, 4.5]\n",
    "\n",
    "x2=[8, 8.5, 9, 9.5, 10, 10.5, 11]\n",
    "y2=[3, 3.5, 3.7, 4, 4.5, 5, 5.2]\n",
    "\n",
    "plt.scatter(x1, y1, label= 'Data 1', color='r')\n",
    "plt.scatter(x2, y2, label= 'Data 1', color='b')\n",
    "\n",
    "plt.xlabel('Sumbu X')\n",
    "plt.ylabel('Sumbu Y')\n",
    "plt.tittle('Contoh Scatter Plot')\n",
    "\n",
    "plt.legend()\n",
    "plt.show()"
   ]
  },
  {
   "cell_type": "code",
   "execution_count": null,
   "id": "ce4ab53b",
   "metadata": {},
   "outputs": [],
   "source": [
    "x1=[2, 4, 6, 8, 10, 11, 11.5, 11.7]\n",
    "y1=[1, 1.5, 2, 2.5, 3, 3.5, 4, 4.5]\n",
    "\n",
    "x2=[8, 8.5, 9, 9.5, 10, 10.5, 11]\n",
    "y2=[3, 3.5, 3.7, 4, 4.5, 5, 5.2]"
   ]
  },
  {
   "cell_type": "code",
   "execution_count": null,
   "id": "0665ae1e",
   "metadata": {},
   "outputs": [],
   "source": [
    "plt.scatter(x1, y1,\n",
    "            color='cyan',\n",
    "            marker='s',\n",
    "            linewidth=1,\n",
    "            edgecolor='red',\n",
    "            s=100)\n",
    "\n",
    "plt.scatter(x2, y2, label= 'Data 1', \n",
    "            color='yellow',\n",
    "            linewidth=1,\n",
    "            marker='^'\n",
    "            edgecolor='blue'\n",
    "            s=200)\n",
    "\n",
    "plt.show()"
   ]
  },
  {
   "cell_type": "code",
   "execution_count": null,
   "id": "0407aa0e",
   "metadata": {},
   "outputs": [],
   "source": [
    "from sklearn.datasets import load_iris\n",
    "iris=load iris()\n",
    "features=iris('data').T"
   ]
  },
  {
   "cell_type": "code",
   "execution_count": null,
   "id": "5809a2cf",
   "metadata": {},
   "outputs": [],
   "source": [
    "iris.key()"
   ]
  },
  {
   "cell_type": "code",
   "execution_count": null,
   "id": "19120839",
   "metadata": {},
   "outputs": [],
   "source": [
    "iri.['data']"
   ]
  },
  {
   "cell_type": "code",
   "execution_count": null,
   "id": "42f6e0fd",
   "metadata": {},
   "outputs": [],
   "source": [
    "iris['feature_names']"
   ]
  },
  {
   "cell_type": "code",
   "execution_count": null,
   "id": "16148a0e",
   "metadata": {},
   "outputs": [],
   "source": [
    "features=iris['data'].T\n",
    "features"
   ]
  },
  {
   "cell_type": "code",
   "execution_count": null,
   "id": "6048bbf7",
   "metadata": {},
   "outputs": [],
   "source": [
    "iris['target']"
   ]
  },
  {
   "cell_type": "code",
   "execution_count": null,
   "id": "82fcfd28",
   "metadata": {},
   "outputs": [],
   "source": [
    "iris['target_names']"
   ]
  },
  {
   "cell_type": "code",
   "execution_count": null,
   "id": "d149c80b",
   "metadata": {},
   "outputs": [],
   "source": [
    "plt.scatter(features[0], features[1],\n",
    "           alpha=0.2\n",
    "           s=100*features[3].\n",
    "           c=iris['target'],\n",
    "           cmap='viridis')\n",
    "\n",
    "\n",
    "plt.xlabel(iris['feature_names'][0])\n",
    "plt.ylabel(iris['feature_names'][1])\n",
    "plt.tittle('Iris Dataset')\n",
    "\n",
    "plt.colorbar()\n",
    "\n",
    "plt.show()"
   ]
  },
  {
   "cell_type": "code",
   "execution_count": null,
   "id": "57166a37",
   "metadata": {},
   "outputs": [],
   "source": [
    "import maplotlib\n",
    "import matplotlib.pylot as plt\n",
    "import numpy as np\n",
    "\n",
    "print(maplotlib.__version__)\n",
    "print(np.__version__)"
   ]
  },
  {
   "cell_type": "code",
   "execution_count": null,
   "id": "784fc433",
   "metadata": {},
   "outputs": [],
   "source": [
    "def gambar_barplot()\n",
    "data1=[25, 85, 75, 40, 60]\n",
    "data2=[40, 35, 20, 55, 10]\n",
    "kategori=['A'. 'B', 'C', 'D', 'E']\n",
    "\n",
    "x=np.arange(len(kategori))\n",
    "\n",
    "width=0.35\n",
    "\n",
    "plt.bar(x-width/2, data1, width, label='Data 1')\n",
    "plt.bar(x+width/2, data2, width, label='Data 2')\n",
    "\n",
    "plt.xticks(x, kategori)\n",
    "\n",
    "plt.grid(linestyle'--',\n",
    "        linewidth=1,\n",
    "        axis='y',\n",
    "        alpha=0.75)\n",
    "\n",
    "\n",
    "plt.xlabel('Kategori')\n",
    "plt.ylabel('Jumlah')\n",
    "plt.tittle('Contoh Grouped Bar Plot')\n",
    "\n",
    "plt.legend()\n",
    "plt.show()"
   ]
  },
  {
   "cell_type": "code",
   "execution_count": null,
   "id": "87462355",
   "metadata": {},
   "outputs": [],
   "source": [
    "plt.style.available"
   ]
  },
  {
   "cell_type": "code",
   "execution_count": null,
   "id": "442d07fa",
   "metadata": {},
   "outputs": [],
   "source": [
    "style.use('ggplot')\n",
    "gambar_barplot()"
   ]
  },
  {
   "cell_type": "code",
   "execution_count": null,
   "id": "2259d4aa",
   "metadata": {},
   "outputs": [],
   "source": []
  },
  {
   "cell_type": "code",
   "execution_count": null,
   "id": "1be68b10",
   "metadata": {},
   "outputs": [],
   "source": []
  },
  {
   "cell_type": "code",
   "execution_count": null,
   "id": "16795777",
   "metadata": {},
   "outputs": [],
   "source": []
  },
  {
   "cell_type": "code",
   "execution_count": null,
   "id": "0e29eefe",
   "metadata": {},
   "outputs": [],
   "source": []
  }
 ],
 "metadata": {
  "kernelspec": {
   "display_name": "Python 3 (ipykernel)",
   "language": "python",
   "name": "python3"
  },
  "language_info": {
   "codemirror_mode": {
    "name": "ipython",
    "version": 3
   },
   "file_extension": ".py",
   "mimetype": "text/x-python",
   "name": "python",
   "nbconvert_exporter": "python",
   "pygments_lexer": "ipython3",
   "version": "3.10.7"
  }
 },
 "nbformat": 4,
 "nbformat_minor": 5
}
